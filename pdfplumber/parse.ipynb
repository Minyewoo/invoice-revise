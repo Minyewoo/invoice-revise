{
 "cells": [
  {
   "cell_type": "code",
   "execution_count": null,
   "metadata": {},
   "outputs": [],
   "source": [
    "import pdfplumber\n",
    "import os\n",
    "import re\n",
    "from operator import itemgetter"
   ]
  },
  {
   "cell_type": "code",
   "execution_count": null,
   "metadata": {},
   "outputs": [],
   "source": [
    "rel_file_path = ''"
   ]
  },
  {
   "cell_type": "code",
   "execution_count": null,
   "metadata": {},
   "outputs": [],
   "source": [
    "abs_file_path = os.path.abspath(rel_file_path)"
   ]
  },
  {
   "cell_type": "code",
   "execution_count": null,
   "metadata": {},
   "outputs": [],
   "source": [
    "total_row_regex = r'Всего[\\s\\xa0]+к[\\s\\xa0]+оплате.*'\n",
    "invoice_id_regex = r'(?<=Счет[\\s\\xa0-]фактура[\\s\\xa0]No)(.*)(?=от)'\n",
    "invoice_date_regex = r'(?<=от)(.*)(?=\\(1\\))'\n",
    "total_row_costs_regex = r'(([0-9]+[\\s\\xa0]?)+[,]?[0-9]+)'\n",
    "\n",
    "with pdfplumber.open(abs_file_path) as pdf:\n",
    "    first_page = pdf.pages[0]\n",
    "    # search invoice id\n",
    "    id_search_result = first_page.search(invoice_id_regex, y_tolerance=1, case=False)\n",
    "    print(f'invoiceId: {id_search_result[0]['text']}')\n",
    "    [page_left, _, page_right, _] = first_page.bbox\n",
    "    # crop line from page and search date\n",
    "    id_top, id_bottom = itemgetter('top', 'bottom')(id_search_result[0])\n",
    "    first_page_cropped = first_page.crop((page_left, id_top, page_right, id_bottom))\n",
    "    date_search_result = first_page_cropped.search(invoice_date_regex, y_tolerance=1, case=False)\n",
    "    print(f'invoiceDate: {date_search_result[0]['text']}')\n",
    "    # search invoice total row\n",
    "    total_row_search_result = first_page.search(total_row_regex, y_tolerance=2, case=False)\n",
    "    total_cost = re.findall(total_row_costs_regex, total_row_search_result[0]['text'])[-1][0]\n",
    "    total_cost_search_result = first_page.search(total_cost, y_tolerance=2, case=False)\n",
    "    print(f'totalCost: {total_cost}')\n",
    "    # draw rects of results\n",
    "    im = first_page.to_image(resolution=150)\n",
    "    im.draw_rects([*id_search_result, *date_search_result, *total_cost_search_result])\n",
    "    im.show()"
   ]
  }
 ],
 "metadata": {
  "kernelspec": {
   "display_name": "venv",
   "language": "python",
   "name": "python3"
  },
  "language_info": {
   "codemirror_mode": {
    "name": "ipython",
    "version": 3
   },
   "file_extension": ".py",
   "mimetype": "text/x-python",
   "name": "python",
   "nbconvert_exporter": "python",
   "pygments_lexer": "ipython3",
   "version": "3.12.3"
  }
 },
 "nbformat": 4,
 "nbformat_minor": 2
}
